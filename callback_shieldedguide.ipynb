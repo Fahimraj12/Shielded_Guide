{
 "cells": [
  {
   "cell_type": "code",
   "execution_count": 1,
   "id": "bd2795e2-1b5b-4994-b40a-d78ef300a40f",
   "metadata": {},
   "outputs": [
    {
     "name": "stdout",
     "output_type": "stream",
     "text": [
      "Encrypted: Hqfu|sw#wklv#wh{w\n",
      "Decrypted: Encrypt this text\n",
      "File Decrypted Content: This is secret!\n"
     ]
    }
   ],
   "source": [
    "from Cipher import Cipher  # Assuming the Cipher class is in cipher.py\n",
    "\n",
    "def run_cipher():\n",
    "    cipher = Cipher(key=3)\n",
    "\n",
    "    message = \"Encrypt this text\"\n",
    "    encrypted = cipher.encrypt(message)\n",
    "    print(\"Encrypted:\", encrypted)\n",
    "\n",
    "    decrypted = cipher.decrypt(encrypted)\n",
    "    print(\"Decrypted:\", decrypted)\n",
    "\n",
    "    # Test file encryption\n",
    "    with open(\"sample.txt\", \"w\") as f:\n",
    "        f.write(\"This is secret!\")\n",
    "\n",
    "    cipher.encrypt_file(\"sample.txt\")\n",
    "    cipher.decrypt_file(\"sample.txt\")\n",
    "    with open(\"sample.txt\", \"r\") as f:\n",
    "        print(\"File Decrypted Content:\", f.read())\n",
    "\n",
    "if __name__ == \"__main__\":\n",
    "    run_cipher()"
   ]
  }
 ],
 "metadata": {
  "kernelspec": {
   "display_name": "Python 3 (ipykernel)",
   "language": "python",
   "name": "python3"
  },
  "language_info": {
   "codemirror_mode": {
    "name": "ipython",
    "version": 3
   },
   "file_extension": ".py",
   "mimetype": "text/x-python",
   "name": "python",
   "nbconvert_exporter": "python",
   "pygments_lexer": "ipython3",
   "version": "3.12.3"
  }
 },
 "nbformat": 4,
 "nbformat_minor": 5
}
